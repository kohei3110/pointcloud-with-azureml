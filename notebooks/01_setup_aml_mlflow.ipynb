{
  "cells": [
    {
      "cell_type": "markdown",
      "metadata": {},
      "source": [
        "# 01 - AML & MLflow 接続セットアップ\n",
        "\n",
        "このノートブックでは、Azure Machine Learning Workspace への接続と、MLflow トラッキング URI の設定を行います。"
      ]
    },
    {
      "cell_type": "code",
      "execution_count": null,
      "metadata": {},
      "outputs": [],
      "source": [
        "from azureml.core import Workspace\n",
        "import mlflow"
      ]
    },
    {
      "cell_type": "code",
      "execution_count": null,
      "metadata": {},
      "outputs": [],
      "source": [
        "# .azureml/config.json を用いて Workspace に接続\n",
        "ws = Workspace.from_config(path=\".azureml/config.json\")\n",
        "print(f\"Workspace name: {ws.name}\")"
      ]
    },
    {
      "cell_type": "code",
      "execution_count": null,
      "metadata": {},
      "outputs": [],
      "source": [
        "# MLflow に AML ワークスペースのトラッキング URI を指定\n",
        "mlflow.set_tracking_uri(ws.get_mlflow_tracking_uri())\n",
        "print(f\"Tracking URI: {mlflow.get_tracking_uri()}\")"
      ]
    },
    {
      "cell_type": "code",
      "execution_count": null,
      "metadata": {},
      "outputs": [],
      "source": [
        "# 実験の作成（存在しない場合）\n",
        "experiment_name = \"pointnet-semseg\"\n",
        "mlflow.set_experiment(experiment_name)\n",
        "print(f\"Experiment set: {experiment_name}\")"
      ]
    },
    {
      "cell_type": "markdown",
      "id": "2bf19ade",
      "metadata": {},
      "source": [
        "## 🔐 Entra ID アプリケーション登録\n",
        "\n",
        "AML ワークスペースにプログラムからアクセスするために、\n",
        "1) Entra ID でアプリケーション (Service Principal) を登録し、\n",
        "2) 適切なロール (例: Contributor) を付与します。\n",
        "\n",
        "以下の Azure CLI コマンドを実行してください。"
      ]
    },
    {
      "cell_type": "code",
      "execution_count": null,
      "id": "6d272424",
      "metadata": {},
      "outputs": [],
      "source": [
        "# Azure CLI にログインしていない場合は、以下のコマンドを実行してください\n",
        "!az login"
      ]
    },
    {
      "cell_type": "code",
      "execution_count": null,
      "id": "ca35147b",
      "metadata": {},
      "outputs": [],
      "source": [
        "# Service Principal の作成\n",
        "# <subscription-id> と <rg-name> は Azure Portal で確認してください。\n",
        "# <workspace-name> は Azure Machine Learning ワークスペースの名前です。\n",
        "!az ad sp create-for-rbac \\\n",
        "    --name \"pointnet-app\" \\\n",
        "    --role Contributor \\\n",
        "    --scopes \"/subscriptions/<subscription-id>/resourceGroups/<rg-name>/providers/Microsoft.MachineLearningServices/workspaces/<workspace-name>\"\n",
        "\n",
        "# 出力された JSON (clientId, clientSecret, tenantId, subscriptionId) を.env ファイルに保存します。"
      ]
    },
    {
      "cell_type": "markdown",
      "id": "e6b26e1e",
      "metadata": {},
      "source": [
        "サービスプリンシパルが作成されたら、Azure Machine Learning ワークスペースに対し、 **AzureML データ科学者** ロールを割り当てる。"
      ]
    },
    {
      "cell_type": "markdown",
      "id": "a8a1d2bb",
      "metadata": {},
      "source": [
        "### 環境変数の設定例\n",
        "```bash\n",
        "export AZURE_SUBSCRIPTION_ID=<subscription-id>\n",
        "export AZURE_RESOURCE_GROUP=<rg-name>\n",
        "export AZURE_WORKSPACE_NAME=<workspace-name>\n",
        "export AZURE_TENANT_ID=<tenantId-from-json>\n",
        "export AZURE_CLIENT_ID=<clientId-from-json>\n",
        "export AZURE_CLIENT_SECRET=<clientSecret-from-json>\n",
        "```"
      ]
    },
    {
      "cell_type": "markdown",
      "id": "1b7073f7",
      "metadata": {},
      "source": [
        "### Azure Machine Learning への接続方法\n",
        "\n",
        "```python\n",
        "from azure.ai.ml import MLClient\n",
        "from azure.identity import ClientSecretCredential\n",
        "\n",
        "\n",
        "credential = ClientSecretCredential(\n",
        "    tenant_id=os.environ['AZURE_TENANT_ID'],\n",
        "    client_id=os.environ['AZURE_CLIENT_ID'],\n",
        "    client_secret=os.environ['AZURE_CLIENT_SECRET']\n",
        ")\n",
        "\n",
        "ml_client = MLClient(\n",
        "    credential,\n",
        "    os.environ['AZURE_SUBSCRIPTION_ID'],\n",
        "    os.environ['AZURE_RESOURCE_GROUP'],\n",
        "    os.environ['AZURE_WORKSPACE_NAME']\n",
        ")"
      ]
    },
    {
      "cell_type": "markdown",
      "id": "120f64f2",
      "metadata": {},
      "source": []
    }
  ],
  "metadata": {
    "kernelspec": {
      "display_name": "Python 3",
      "name": "python3"
    },
    "language_info": {
      "name": "python",
      "version": "3.8"
    }
  },
  "nbformat": 4,
  "nbformat_minor": 5
}
