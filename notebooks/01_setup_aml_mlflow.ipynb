{
  "cells": [
    {
      "cell_type": "markdown",
      "metadata": {},
      "source": [
        "# 01 - AML & MLflow 接続セットアップ\n",
        "\n",
        "このノートブックでは、Azure Machine Learning Workspace への接続と、MLflow トラッキング URI の設定を行います。"
      ]
    },
    {
      "cell_type": "code",
      "execution_count": null,
      "metadata": {},
      "outputs": [],
      "source": [
        "from azureml.core import Workspace\n",
        "import mlflow"
      ]
    },
    {
      "cell_type": "code",
      "execution_count": null,
      "metadata": {},
      "outputs": [],
      "source": [
        "# .azureml/config.json を用いて Workspace に接続\n",
        "ws = Workspace.from_config(path=\".azureml/config.json\")\n",
        "print(f\"Workspace name: {ws.name}\")"
      ]
    },
    {
      "cell_type": "code",
      "execution_count": null,
      "metadata": {},
      "outputs": [],
      "source": [
        "# MLflow に AML ワークスペースのトラッキング URI を指定\n",
        "mlflow.set_tracking_uri(ws.get_mlflow_tracking_uri())\n",
        "print(f\"Tracking URI: {mlflow.get_tracking_uri()}\")"
      ]
    },
    {
      "cell_type": "code",
      "execution_count": null,
      "metadata": {},
      "outputs": [],
      "source": [
        "# 実験の作成（存在しない場合）\n",
        "experiment_name = \"pointnet-semseg\"\n",
        "mlflow.set_experiment(experiment_name)\n",
        "print(f\"Experiment set: {experiment_name}\")"
      ]
    }
  ],
  "metadata": {
    "kernelspec": {
      "display_name": "Python 3",
      "name": "python3"
    },
    "language_info": {
      "name": "python",
      "version": "3.8"
    }
  },
  "nbformat": 4,
  "nbformat_minor": 5
}
