{
  "cells": [
    {
      "cell_type": "markdown",
      "metadata": {},
      "source": [
        "# 04 - モデルのマネージドオンラインエンドポイントデプロイ\n",
        "\n",
        "このノートブックでは、AML モデルレジストリから最新モデルを取得し、マネージドオンラインエンドポイントにデプロイします。"
      ]
    },
    {
      "cell_type": "code",
      "execution_count": null,
      "id": "bf9c79f0",
      "metadata": {},
      "outputs": [],
      "source": [
        "!pip install azure-core==1.30.2 azure-identity==1.17.1 --force-reinstall\n",
        "!pip install azure-ai-ml==1.26.3"
      ]
    },
    {
      "cell_type": "code",
      "execution_count": null,
      "id": "d5943d3f",
      "metadata": {},
      "outputs": [],
      "source": [
        "# ─── Service Principal の環境変数をセット ──────────────────────────────────\n",
        "import os\n",
        "from azure.identity import ClientSecretCredential\n",
        "\n",
        "\n",
        "# 以下を実際の値に置き換えてください\n",
        "os.environ['AZURE_SUBSCRIPTION_ID'] = '<your‑subscription‑id>'\n",
        "os.environ['AZURE_RESOURCE_GROUP']   = '<your‑resource‑group>'\n",
        "os.environ['AZURE_WORKSPACE_NAME']  = '<your‑workspace‑name>'\n",
        "os.environ['AZURE_TENANT_ID']       = '<your‑tenant‑id>'\n",
        "os.environ['AZURE_CLIENT_ID']       = '<your‑client‑id>'\n",
        "os.environ['AZURE_CLIENT_SECRET']   = '<your‑client‑secret>'\n",
        "# ─────────────────────────────────────────────────────────────────────────\n",
        "\n",
        "credential = ClientSecretCredential(\n",
        "    tenant_id=os.environ['AZURE_TENANT_ID'],\n",
        "    client_id=os.environ['AZURE_CLIENT_ID'],\n",
        "    client_secret=os.environ['AZURE_CLIENT_SECRET']\n",
        ")"
      ]
    },
    {
      "cell_type": "code",
      "execution_count": null,
      "metadata": {},
      "outputs": [],
      "source": [
        "from azure.ai.ml import MLClient\n",
        "from azure.ai.ml.entities import (\n",
        "    ManagedOnlineEndpoint,\n",
        "    ManagedOnlineDeployment,\n",
        "    Environment as AMLEnvironment\n",
        ")\n",
        "import time\n",
        "\n",
        "\n",
        "# ワークスペースへの接続\n",
        "ml_client = MLClient(\n",
        "    credential, \n",
        "    os.environ['AZURE_SUBSCRIPTION_ID'],\n",
        "    os.environ['AZURE_RESOURCE_GROUP'],\n",
        "    os.environ['AZURE_WORKSPACE_NAME']\n",
        ")\n",
        "\n",
        "# モデルの取得\n",
        "model = ml_client.models.get(name=\"PointNetFineTuned\", version=\"1\")\n",
        "\n",
        "# ユニークなエンドポイント名を作成\n",
        "timestamp = int(time.time())\n",
        "endpoint_name = f\"pointnet-seg-endpoint-{timestamp}\"\n",
        "\n",
        "# エンドポイント定義・作成\n",
        "endpoint = ManagedOnlineEndpoint(\n",
        "    name=endpoint_name,\n",
        "    description=\"PointNet segmentation model endpoint\"\n",
        ")\n",
        "ml_client.online_endpoints.begin_create_or_update(endpoint).result()\n",
        "print(f\"🔌 Created endpoint: {endpoint_name}\")\n",
        "\n",
        "# 環境作成\n",
        "env = AMLEnvironment(\n",
        "    name=\"pointnet-custom-env\",\n",
        "    version=\"1\",\n",
        "    image=\"mcr.microsoft.com/azureml/openmpi4.1.0-ubuntu20.04:latest\",\n",
        "    conda_file=\"../environments/conda.yml\"\n",
        ")\n",
        "registered_env = ml_client.environments.create_or_update(env)\n",
        "\n",
        "\n",
        "# デプロイ定義・作成\n",
        "deployment = ManagedOnlineDeployment(\n",
        "    name=\"blue\",\n",
        "    endpoint_name=endpoint_name,\n",
        "    model=model.id,\n",
        "    environment=registered_env.id,\n",
        "    code_path=\"../\",\n",
        "    scoring_script=\"app/azureml/score.py\",\n",
        "    environment_variables={\n",
        "        \"AZURE_CLIENT_ID\":     os.environ[\"AZURE_CLIENT_ID\"],\n",
        "        \"AZURE_CLIENT_SECRET\": os.environ[\"AZURE_CLIENT_SECRET\"],\n",
        "        \"AZURE_TENANT_ID\":     os.environ[\"AZURE_TENANT_ID\"],\n",
        "    },\n",
        "    instance_type=\"Standard_DS3_v2\",\n",
        "    instance_count=1\n",
        ")\n",
        "ml_client.online_deployments.begin_create_or_update(deployment).result()\n",
        "print(\"🚀 Deployment 'blue' created\")\n",
        "\n",
        "# エンドポイントのスコアリング URI を表示\n",
        "endpoint = ml_client.online_endpoints.get(name=endpoint_name)\n",
        "print(f\"🌐 Scoring URI: {endpoint.scoring_uri}\")"
      ]
    }
  ],
  "metadata": {
    "kernelspec": {
      "display_name": "Python 3",
      "name": "python3"
    },
    "language_info": {
      "name": "python",
      "version": "3.8"
    }
  },
  "nbformat": 4,
  "nbformat_minor": 5
}
