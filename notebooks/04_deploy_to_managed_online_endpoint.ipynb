{
  "cells": [
    {
      "cell_type": "markdown",
      "metadata": {},
      "source": [
        "# 04 - モデルのマネージドオンラインエンドポイントデプロイ\n",
        "\n",
        "このノートブックでは、AML モデルレジストリから最新モデルを取得し、マネージドオンラインエンドポイントにデプロイします。"
      ]
    },
    {
      "cell_type": "code",
      "execution_count": null,
      "id": "bf9c79f0",
      "metadata": {},
      "outputs": [],
      "source": [
        "!pip install azure-core==1.30.2 azure-identity==1.17.1 --force-reinstall\n",
        "!pip install azure-ai-ml==1.26.3"
      ]
    },
    {
      "cell_type": "code",
      "execution_count": null,
      "metadata": {},
      "outputs": [],
      "source": [
        "from azure.ai.ml import MLClient\n",
        "from azure.ai.ml.entities import (\n",
        "    ManagedOnlineEndpoint,\n",
        "    ManagedOnlineDeployment,\n",
        "    Environment as AMLEnvironment,\n",
        "    CodeConfiguration\n",
        ")\n",
        "from azure.identity import DefaultAzureCredential\n",
        "import time\n",
        "\n",
        "\n",
        "# ワークスペースへの接続\n",
        "ml_client = MLClient.from_config(DefaultAzureCredential(), path=\"../.azureml/config.json\")\n",
        "\n",
        "# モデルの取得 (最新バージョン)\n",
        "model = ml_client.models.get(name=\"PointNetFineTuned\", version=\"1\")\n",
        "\n",
        "# ユニークなエンドポイント名を作成\n",
        "timestamp = int(time.time())\n",
        "endpoint_name = f\"pointnet-seg-endpoint-{timestamp}\"\n",
        "\n",
        "# エンドポイント定義・作成\n",
        "endpoint = ManagedOnlineEndpoint(\n",
        "    name=endpoint_name,\n",
        "    description=\"PointNet segmentation model endpoint\"\n",
        ")\n",
        "ml_client.online_endpoints.begin_create_or_update(endpoint).result()\n",
        "print(f\"🔌 Created endpoint: {endpoint_name}\")\n",
        "\n",
        "# デプロイ定義・作成\n",
        "deployment = ManagedOnlineDeployment(\n",
        "    name=\"blue\",\n",
        "    endpoint_name=endpoint_name,\n",
        "    model=model.id,\n",
        "    environment=AMLEnvironment(\n",
        "        conda_file=\"../environments/conda.yml\",\n",
        "        image=\"mcr.microsoft.com/azureml/openmpi4.1.0-ubuntu20.04:latest\"\n",
        "    ),\n",
        "    code_path=\"../app/azureml\",\n",
        "    scoring_script=\"score.py\",\n",
        "    instance_type=\"Standard_DS2_v2\",\n",
        "    instance_count=1\n",
        ")\n",
        "ml_client.online_deployments.begin_create_or_update(deployment).result()\n",
        "print(\"🚀 Deployment 'blue' created and receiving 100% traffic\")\n",
        "\n",
        "# エンドポイントのスコアリング URI を表示\n",
        "endpoint = ml_client.online_endpoints.get(name=endpoint_name)\n",
        "print(f\"🌐 Scoring URI: {endpoint.scoring_uri}\")"
      ]
    }
  ],
  "metadata": {
    "kernelspec": {
      "display_name": "Python 3",
      "name": "python3"
    },
    "language_info": {
      "name": "python",
      "version": "3.8"
    }
  },
  "nbformat": 4,
  "nbformat_minor": 5
}
