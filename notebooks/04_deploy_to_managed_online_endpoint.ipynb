{
  "cells": [
    {
      "cell_type": "markdown",
      "metadata": {},
      "source": [
        "# 04 - \u30e2\u30c7\u30eb\u306e\u30de\u30cd\u30fc\u30b8\u30c9\u30aa\u30f3\u30e9\u30a4\u30f3\u30a8\u30f3\u30c9\u30dd\u30a4\u30f3\u30c8\u30c7\u30d7\u30ed\u30a4\n",
        "\n",
        "\u3053\u306e\u30ce\u30fc\u30c8\u30d6\u30c3\u30af\u3067\u306f\u3001AML \u30e2\u30c7\u30eb\u30ec\u30b8\u30b9\u30c8\u30ea\u304b\u3089\u6700\u65b0\u30e2\u30c7\u30eb\u3092\u53d6\u5f97\u3057\u3001\u30de\u30cd\u30fc\u30b8\u30c9\u30aa\u30f3\u30e9\u30a4\u30f3\u30a8\u30f3\u30c9\u30dd\u30a4\u30f3\u30c8\u306b\u30c7\u30d7\u30ed\u30a4\u3057\u307e\u3059\u3002"
      ]
    },
    {
      "cell_type": "code",
      "execution_count": null,
      "id": "bf9c79f0",
      "metadata": {},
      "outputs": [],
      "source": [
        "!pip install azure-core==1.30.2 azure-identity==1.17.1 --force-reinstall\n",
        "!pip install azure-ai-ml==1.26.3"
      ]
    },
    {
      "cell_type": "code",
      "execution_count": null,
      "id": "d5943d3f",
      "metadata": {},
      "outputs": [],
      "source": [
        "# \u2500\u2500\u2500 Service Principal \u306e\u74b0\u5883\u5909\u6570\u3092\u30bb\u30c3\u30c8 \u2500\u2500\u2500\u2500\u2500\u2500\u2500\u2500\u2500\u2500\u2500\u2500\u2500\u2500\u2500\u2500\u2500\u2500\u2500\u2500\u2500\u2500\u2500\u2500\u2500\u2500\u2500\u2500\u2500\u2500\u2500\u2500\u2500\u2500\n",
        "import os\n",
        "from azure.identity import ClientSecretCredential\n",
        "\n",
        "\n",
        "# \u4ee5\u4e0b\u3092\u5b9f\u969b\u306e\u5024\u306b\u7f6e\u304d\u63db\u3048\u3066\u304f\u3060\u3055\u3044\n",
        "os.environ['AZURE_SUBSCRIPTION_ID'] = '<your\u2011subscription\u2011id>'\n",
        "os.environ['AZURE_RESOURCE_GROUP']   = '<your\u2011resource\u2011group>'\n",
        "os.environ['AZURE_WORKSPACE_NAME']  = '<your\u2011workspace\u2011name>'\n",
        "os.environ['AZURE_TENANT_ID']       = '<your\u2011tenant\u2011id>'\n",
        "os.environ['AZURE_CLIENT_ID']       = '<your\u2011client\u2011id>'\n",
        "os.environ['AZURE_CLIENT_SECRET']   = '<your\u2011client\u2011secret>'\n",
        "# \u2500\u2500\u2500\u2500\u2500\u2500\u2500\u2500\u2500\u2500\u2500\u2500\u2500\u2500\u2500\u2500\u2500\u2500\u2500\u2500\u2500\u2500\u2500\u2500\u2500\u2500\u2500\u2500\u2500\u2500\u2500\u2500\u2500\u2500\u2500\u2500\u2500\u2500\u2500\u2500\u2500\u2500\u2500\u2500\u2500\u2500\u2500\u2500\u2500\u2500\u2500\u2500\u2500\u2500\u2500\u2500\u2500\u2500\u2500\u2500\u2500\u2500\u2500\u2500\u2500\u2500\u2500\u2500\u2500\u2500\u2500\u2500\u2500\n",
        "\n",
        "credential = ClientSecretCredential(\n",
        "    tenant_id=os.environ['AZURE_TENANT_ID'],\n",
        "    client_id=os.environ['AZURE_CLIENT_ID'],\n",
        "    client_secret=os.environ['AZURE_CLIENT_SECRET']\n",
        ")"
      ]
    },
    {
      "cell_type": "code",
      "execution_count": null,
      "metadata": {},
      "outputs": [],
      "source": [
        "from azure.ai.ml import MLClient\n",
        "from azure.ai.ml.entities import (\n",
        "    ManagedOnlineEndpoint,\n",
        "    ManagedOnlineDeployment,\n",
        "    Environment as AMLEnvironment\n",
        ")\n",
        "import time\n",
        "\n",
        "\n",
        "# \u30ef\u30fc\u30af\u30b9\u30da\u30fc\u30b9\u3078\u306e\u63a5\u7d9a\n",
        "ml_client = MLClient(\n",
        "    credential, \n",
        "    os.environ['AZURE_SUBSCRIPTION_ID'],\n",
        "    os.environ['AZURE_RESOURCE_GROUP'],\n",
        "    os.environ['AZURE_WORKSPACE_NAME']\n",
        ")\n",
        "\n",
        "# \u30e2\u30c7\u30eb\u306e\u53d6\u5f97\n",
        "model = ml_client.models.get(name=\"PointNetFineTuned\", version=\"1\")\n",
        "\n",
        "# \u30e6\u30cb\u30fc\u30af\u306a\u30a8\u30f3\u30c9\u30dd\u30a4\u30f3\u30c8\u540d\u3092\u4f5c\u6210\n",
        "timestamp = int(time.time())\n",
        "endpoint_name = f\"pointnet-seg-endpoint-{timestamp}\"\n",
        "\n",
        "# \u30a8\u30f3\u30c9\u30dd\u30a4\u30f3\u30c8\u5b9a\u7fa9\u30fb\u4f5c\u6210\n",
        "endpoint = ManagedOnlineEndpoint(\n",
        "    name=endpoint_name,\n",
        "    description=\"PointNet segmentation model endpoint\"\n",
        ")\n",
        "ml_client.online_endpoints.begin_create_or_update(endpoint).result()\n",
        "print(f\"\ud83d\udd0c Created endpoint: {endpoint_name}\")\n",
        "\n",
        "# \u74b0\u5883\u4f5c\u6210\n",
        "env = AMLEnvironment(\n",
        "    name=\"pointnet-custom-env\",\n",
        "    version=\"1\",\n",
        "    image=\"mcr.microsoft.com/azureml/openmpi4.1.0-ubuntu20.04:latest\",\n",
        "    conda_file=\"../environments/conda.yml\"\n",
        ")\n",
        "registered_env = ml_client.environments.create_or_update(env)\n",
        "\n",
        "\n",
        "# \u30c7\u30d7\u30ed\u30a4\u5b9a\u7fa9\u30fb\u4f5c\u6210\n",
        "deployment = ManagedOnlineDeployment(\n",
        "    name=\"blue\",\n",
        "    endpoint_name=endpoint_name,\n",
        "    model=model.id,\n",
        "    environment=registered_env.id,\n",
        "    code_path=\"../\",\n",
        "    scoring_script=\"app/azureml/score.py\",\n",
        "    environment_variables={\n",
        "        \"AZURE_CLIENT_ID\":     os.environ[\"AZURE_CLIENT_ID\"],\n",
        "        \"AZURE_CLIENT_SECRET\": os.environ[\"AZURE_CLIENT_SECRET\"],\n",
        "        \"AZURE_TENANT_ID\":     os.environ[\"AZURE_TENANT_ID\"],\n",
        "    },\n",
        "    instance_type=\"Standard_DS2_v2\",\n",
        "    instance_count=1\n",
        ")\n",
        "ml_client.online_deployments.begin_create_or_update(deployment).result()\n",
        "print(\"\ud83d\ude80 Deployment 'blue' created\")\n",
        "\n",
        "# \u30a8\u30f3\u30c9\u30dd\u30a4\u30f3\u30c8\u306e\u30b9\u30b3\u30a2\u30ea\u30f3\u30b0 URI \u3092\u8868\u793a\n",
        "endpoint = ml_client.online_endpoints.get(name=endpoint_name)\n",
        "print(f\"\ud83c\udf10 Scoring URI: {endpoint.scoring_uri}\")"
      ]
    },
    {
      "cell_type": "code",
      "execution_count": null,
      "id": "5a0df901",
      "metadata": {},
      "outputs": [],
      "source": [
        "# \u30a8\u30f3\u30c9\u30dd\u30a4\u30f3\u30c8\u306e\u30c8\u30e9\u30d5\u30a3\u30c3\u30af\u3092 100% \u3067 'blue' \u30c7\u30d7\u30ed\u30a4\u30e1\u30f3\u30c8\u306b\u5207\u308a\u66ff\u3048\n",
        "endpoint_obj = ml_client.online_endpoints.get(name=endpoint_name)\n",
        "\n",
        "# \u30c8\u30e9\u30d5\u30a3\u30c3\u30af\u914d\u5206\u3092\u66f4\u65b0\n",
        "endpoint_obj.traffic = {'blue': 100}\n",
        "\n",
        "# \u66f4\u65b0\u3092\u9069\u7528\n",
        "ml_client.online_endpoints.begin_create_or_update(endpoint_obj).result()\n",
        "print(\"\ud83d\udd04 Traffic updated to 100% for 'blue' deployment\")"
      ]
    }
  ],
  "metadata": {
    "kernelspec": {
      "display_name": "Python 3",
      "name": "python3"
    },
    "language_info": {
      "name": "python",
      "version": "3.8"
    }
  },
  "nbformat": 4,
  "nbformat_minor": 5
}