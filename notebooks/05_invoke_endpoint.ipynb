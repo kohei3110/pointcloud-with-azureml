{
  "cells": [
    {
      "cell_type": "markdown",
      "metadata": {},
      "source": [
        "# 05 - ACI エンドポイントからの推論呼び出し\n",
        "\n",
        "このノートブックでは、デプロイされた ACI エンドポイントに対して HTTP リクエストで推論を実行します。"
      ]
    },
    {
      "cell_type": "code",
      "execution_count": null,
      "metadata": {},
      "outputs": [],
      "source": [
        "import requests\n",
        "import json\n",
        "import numpy as np"
      ]
    },
    {
      "cell_type": "code",
      "execution_count": null,
      "metadata": {},
      "outputs": [],
      "source": [
        "# デプロイ済みエンドポイント URL（前のノートブックで表示されたものを貼り付けてください）\n",
        "endpoint = \"https://<your-aci-endpoint>.azurewebsites.net/score\"  # 例: https://pointnet-seg-aci.azurewebsites.net/score"
      ]
    },
    {
      "cell_type": "code",
      "execution_count": null,
      "metadata": {},
      "outputs": [],
      "source": [
        "# テスト用の点群データを作成（[N, 3]）\n",
        "points = np.random.rand(100, 3).tolist()\n",
        "payload = json.dumps({\"data\": points})\n",
        "headers = {\"Content-Type\": \"application/json\"}"
      ]
    },
    {
      "cell_type": "code",
      "execution_count": null,
      "metadata": {},
      "outputs": [],
      "source": [
        "# 推論リクエスト送信\n",
        "response = requests.post(endpoint, data=payload, headers=headers)\n",
        "print(response.status_code)\n",
        "print(response.json())"
      ]
    }
  ],
  "metadata": {
    "kernelspec": {
      "display_name": "Python 3",
      "name": "python3"
    },
    "language_info": {
      "name": "python",
      "version": "3.8"
    }
  },
  "nbformat": 4,
  "nbformat_minor": 5
}
