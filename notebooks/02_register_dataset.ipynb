{
  "cells": [
    {
      "cell_type": "markdown",
      "metadata": {},
      "source": [
        "# 02 - AML データセット登録\n",
        "\n",
        "前処理済みの SemanticKITTI 点群データ (.csv) を Azure ML にアップロードし、Tabular Dataset として登録します。"
      ]
    },
    {
      "cell_type": "code",
      "execution_count": null,
      "metadata": {},
      "outputs": [],
      "source": [
        "from azureml.core import Workspace, Dataset\n",
        "import os\n"
      ]
    },
    {
      "cell_type": "code",
      "execution_count": null,
      "metadata": {},
      "outputs": [],
      "source": [
        "# Workspace とデータストアの取得\n",
        "ws = Workspace.from_config(path=\".azureml/config.json\")\n",
        "datastore = ws.get_default_datastore()\n",
        "print(f\"Workspace: {ws.name}, Datastore: {datastore.name}\")\n"
      ]
    },
    {
      "cell_type": "markdown",
      "metadata": {},
      "source": [
        "## データアップロード\n"
      ]
    },
    {
      "cell_type": "code",
      "execution_count": null,
      "metadata": {},
      "outputs": [],
      "source": [
        "upload_path = \"datasets/semantickitti_csv\"\n",
        "datastore.upload(src_dir=\"data/preprocessed\", target_path=upload_path, overwrite=True, show_progress=True)\n"
      ]
    },
    {
      "cell_type": "markdown",
      "metadata": {},
      "source": [
        "## データセット登録\n"
      ]
    },
    {
      "cell_type": "code",
      "execution_count": null,
      "metadata": {},
      "outputs": [],
      "source": [
        "dataset = Dataset.Tabular.from_delimited_files(path=(datastore, f\"{upload_path}/*.csv\"))\n",
        "dataset = dataset.register(\n",
        "    workspace=ws,\n",
        "    name=\"semantic-kitti-tabular\",\n",
        "    description=\"SemanticKITTI CSV format for PointNet segmentation\",\n",
        "    create_new_version=True\n",
        ")\n",
        "print(f\"Registered dataset: {dataset.name}, version: {dataset.version}\")\n"
      ]
    }
  ],
  "metadata": {
    "kernelspec": {
      "display_name": "Python 3",
      "name": "python3"
    },
    "language_info": {
      "name": "python",
      "version": "3.8"
    }
  },
  "nbformat": 4,
  "nbformat_minor": 5
}
