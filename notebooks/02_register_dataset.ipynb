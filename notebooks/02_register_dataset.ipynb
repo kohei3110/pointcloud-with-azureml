{
    "nbformat": 4,
    "nbformat_minor": 5,
    "metadata": {
      "kernelspec": {
        "name": "python3",
        "display_name": "Python 3"
      },
      "language_info": {
        "name": "python",
        "version": "3.8"
      }
    },
    "cells": [
      {
        "cell_type": "markdown",
        "source": [
          "# 02 - AML データセット登録\n",
          "\n",
          "前処理済みの SemanticKITTI 点群データ (.csv) を Azure ML にアップロードし、Tabular Dataset として登録します。"
        ],
        "metadata": {}
      },
      {
        "cell_type": "code",
        "source": [
          "from azureml.core import Workspace, Dataset\n",
          "import os"
        ],
        "metadata": {},
        "execution_count": null,
        "outputs": []
      },
      {
        "cell_type": "code",
        "source": [
          "ws = Workspace.from_config(path=\".azureml/config.json\")\n",
          "datastore = ws.get_default_datastore()\n",
          "print(f\"Workspace: {ws.name}, Datastore: {datastore.name}\")"
        ],
        "metadata": {},
        "execution_count": null,
        "outputs": []
      },
      {
        "cell_type": "markdown",
        "source": [
          "## データアップロード"
        ],
        "metadata": {}
      },
      {
        "cell_type": "code",
        "source": [
          "upload_path = \"datasets/semantickitti_csv\"\n",
          "datastore.upload(src_dir=\"data/preprocessed\", target_path=upload_path, overwrite=True, show_progress=True)"
        ],
        "metadata": {},
        "execution_count": null,
        "outputs": []
      },
      {
        "cell_type": "markdown",
        "source": [
          "## データセット登録"
        ],
        "metadata": {}
      },
      {
        "cell_type": "code",
        "source": [
          "dataset = Dataset.Tabular.from_delimited_files(path=(datastore, f\"{upload_path}/*.csv\"))\n",
          "dataset = dataset.register(
    workspace=ws,
    name=\"semantic-kitti-tabular\",
    description=\"SemanticKITTI CSV format for PointNet segmentation\",
    create_new_version=True
  )\n",
          "print(f\"Registered dataset: {dataset.name}, version: {dataset.version}\")"
        ],
        "metadata": {},
        "execution_count": null,
        "outputs": []
      }
    ]
  }  