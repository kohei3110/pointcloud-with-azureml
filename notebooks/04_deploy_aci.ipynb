{
  "cells": [
    {
      "cell_type": "markdown",
      "metadata": {},
      "source": [
        "# 04 - モデルの ACI デプロイ\n",
        "\n",
        "このノートブックでは、AML モデルレジストリから最新モデルを取得し、ACI にデプロイします。"
      ]
    },
    {
      "cell_type": "code",
      "execution_count": null,
      "metadata": {},
      "outputs": [],
      "source": [
        "from azureml.core import Workspace, Model, Environment\n",
        "from azureml.core.model import InferenceConfig\n",
        "from azureml.core.webservice import AciWebservice\n",
        "\n",
        "ws = Workspace.from_config(path=\".azureml/config.json\")\n",
        "model = Model(ws, name=\"PointNetFineTuned\", version=1)\n",
        "\n",
        "env = Environment(name=\"pointnet-infer-env\")\n",
        "env.python.conda_dependencies.add_pip_package(\"torch\")\n",
        "env.python.conda_dependencies.add_pip_package(\"fastapi\")\n",
        "env.python.conda_dependencies.add_pip_package(\"uvicorn\")\n",
        "env.python.conda_dependencies.add_pip_package(\"pandas\")\n",
        "\n",
        "inference_config = InferenceConfig(\n",
        "    entry_script=\"app/azureml/score.py\",\n",
        "    environment=env,\n",
        "    source_directory=\"../\"\n",
        ")\n",
        "\n",
        "deployment_config = AciWebservice.deploy_configuration(\n",
        "    cpu_cores=1,\n",
        "    memory_gb=1,\n",
        "    description=\"PointNet segmentation model deployed to ACI\"\n",
        ")\n",
        "\n",
        "service = Model.deploy(\n",
        "    workspace=ws,\n",
        "    name=\"pointnet-seg-aci\",\n",
        "    models=[model],\n",
        "    inference_config=inference_config,\n",
        "    deployment_config=deployment_config,\n",
        "    overwrite=True\n",
        ")\n",
        "\n",
        "service.wait_for_deployment(show_output=True)\n",
        "print(f\"Deployed ACI endpoint: {service.scoring_uri}\")"
      ]
    }
  ],
  "metadata": {
    "kernelspec": {
      "display_name": "Python 3",
      "name": "python3"
    },
    "language_info": {
      "name": "python",
      "version": "3.8"
    }
  },
  "nbformat": 4,
  "nbformat_minor": 5
}
