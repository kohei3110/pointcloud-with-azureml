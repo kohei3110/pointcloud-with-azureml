{
  "cells": [
    {
      "cell_type": "markdown",
      "metadata": {},
      "source": [
        "# 03 - 学習と MLflow 実験記録\n",
        "\n",
        "このノートブックでは、事前に前処理・登録されたデータセットを使って、PointNet モデルの学習・評価を行い、MLflow に実験を記録します。"
      ]
    },
    {
      "cell_type": "code",
      "execution_count": null,
      "metadata": {
        "tags": []
      },
      "outputs": [],
      "source": [
        "from ml.train.train_pointnet import train\n",
        "train()"
      ]
    }
  ],
  "metadata": {
    "kernelspec": {
      "display_name": "Python 3",
      "name": "python3"
    },
    "language_info": {
      "name": "python",
      "version": "3.8"
    }
  },
  "nbformat": 4,
  "nbformat_minor": 5
}
