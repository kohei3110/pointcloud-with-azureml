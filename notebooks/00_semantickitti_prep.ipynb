{
  "cells": [
    {
      "cell_type": "markdown",
      "id": "08bf0dbd",
      "metadata": {},
      "source": [
        "# 00 - SemanticKITTI 前処理ノートブック\n",
        "\n",
        "このノートブックでは、SemanticKITTI データセットをダウンロードし、PointNet 用に前処理（CSV 変換）を行います。"
      ]
    },
    {
      "cell_type": "markdown",
      "id": "34d0d71c",
      "metadata": {},
      "source": [
        "## SemanticKITTI のダウンロード\n",
        "\n",
        "SemanticKITTI は下記より入手可能です：[http://www.semantic-kitti.org/dataset.html](http://www.semantic-kitti.org/dataset.html)\n",
        "\n",
        "以下は `wget` を使って sequence 00 のみをダウンロードする例です。※データサイズが大きいため実行環境の容量に注意してください。"
      ]
    },
    {
      "cell_type": "code",
      "execution_count": null,
      "id": "269e171c",
      "metadata": {},
      "outputs": [],
      "source": [
        "!mkdir -p semantic_kitti\n",
        "!cd semantic_kitti && \\\n",
        "        wget -N http://semantic-kitti.org/dataset/sequences.zip && \\\n",
        "        unzip -n sequences.zip && \\\n",
        "        rm sequences.zip"
      ]
    },
    {
      "cell_type": "code",
      "execution_count": null,
      "id": "a049406b",
      "metadata": {},
      "outputs": [],
      "source": [
        "!ls semantic_kitti/sequences/00/velodyne | head"
      ]
    },
    {
      "cell_type": "markdown",
      "id": "8ffc0ce6",
      "metadata": {},
      "source": [
        "## 必要なライブラリのインポート"
      ]
    },
    {
      "cell_type": "code",
      "execution_count": null,
      "id": "cfc9d2b9",
      "metadata": {},
      "outputs": [],
      "source": [
        "import os\n",
        "import numpy as np\n",
        "import pandas as pd\n",
        "from tqdm import tqdm"
      ]
    },
    {
      "cell_type": "markdown",
      "id": "e5cda8aa",
      "metadata": {},
      "source": [
        "## ファイル読み込みと前処理（.bin → CSV）"
      ]
    },
    {
      "cell_type": "code",
      "execution_count": null,
      "id": "76d0c8e0",
      "metadata": {},
      "outputs": [],
      "source": [
        "root_dir = \"semantic_kitti/sequences/00\"\n",
        "velodyne_dir = os.path.join(root_dir, \"velodyne\")\n",
        "label_dir = os.path.join(root_dir, \"labels\")\n",
        "out_dir = \"data/preprocessed\"\n",
        "os.makedirs(out_dir, exist_ok=True)\n",
        "\n",
        "bin_files = sorted([f for f in os.listdir(velodyne_dir) if f.endswith(\".bin\")])\n",
        "print(f\"{len(bin_files)} .bin files found.\")"
      ]
    },
    {
      "cell_type": "code",
      "execution_count": null,
      "id": "a5bfd397",
      "metadata": {},
      "outputs": [],
      "source": [
        "for fname in tqdm(bin_files[:50]):  # デモ用に先頭50ファイルのみ\n",
        "    bin_path = os.path.join(velodyne_dir, fname)\n",
        "    label_path = os.path.join(label_dir, fname.replace(\".bin\", \".label\"))\n",
        "\n",
        "    pc = np.fromfile(bin_path, dtype=np.float32).reshape(-1, 4)[:, :3]\n",
        "    labels = np.fromfile(label_path, dtype=np.uint32) & 0xFFFF\n",
        "\n",
        "    df = pd.DataFrame(pc, columns=['x', 'y', 'z'])\n",
        "    df['label'] = labels\n",
        "    df.to_csv(os.path.join(out_dir, fname.replace(\".bin\", \".csv\")), index=False)"
      ]
    },
    {
      "cell_type": "code",
      "execution_count": null,
      "id": "442365d7",
      "metadata": {},
      "outputs": [],
      "source": [
        "print(f\"変換後のCSVファイル数: {len(os.listdir(out_dir))}\")"
      ]
    }
  ],
  "metadata": {
    "kernelspec": {
      "display_name": "Python 3",
      "name": "python3"
    },
    "language_info": {
      "name": "python",
      "version": "3.8"
    }
  },
  "nbformat": 4,
  "nbformat_minor": 5
}
